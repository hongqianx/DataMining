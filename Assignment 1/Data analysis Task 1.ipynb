{
 "cells": [
  {
   "cell_type": "code",
   "execution_count": null,
   "id": "c46bf2f17a73dcb8",
   "metadata": {},
   "outputs": [],
   "source": [
    "# Uncomment below if you dont have the required packages\n",
    "#!pip install pandas\n",
    "import pandas as pd\n",
    "\n",
    "# Load dataset\n",
    "file_path = \"../input/dataset_mood_smartphone.csv\"\n",
    "df = pd.read_csv(file_path)"
   ]
  },
  {
   "cell_type": "code",
   "execution_count": null,
   "id": "initial_id",
   "metadata": {
    "ExecuteTime": {
     "end_time": "2025-04-07T08:37:15.000105Z",
     "start_time": "2025-04-07T08:37:14.673446Z"
    }
   },
   "outputs": [],
   "source": [
    "# Display first few rows\n",
    "print(\"First five rows:\")\n",
    "print(df.head())\n",
    "\n",
    "# Check length of our records\n",
    "print(len(df))\n",
    "\n",
    "# Check category amount\n",
    "print(df['variable'].value_counts())\n",
    "\n",
    "# Basic info\n",
    "print(\"\\nDataset Info:\")\n",
    "df.info()\n",
    "\n",
    "# Summary statistics\n",
    "print(\"\\nSummary Statistics:\")\n",
    "print(df.describe(include=\"all\"))\n",
    "\n",
    "# Checking missing values\n",
    "print(\"\\nMissing Values:\")\n",
    "print(df.isnull().sum())\n",
    "\n",
    "# Unique values per column\n",
    "print(\"\\nUnique Values per Column:\")\n",
    "print(df.nunique())\n"
   ]
  },
  {
   "cell_type": "code",
   "execution_count": null,
   "id": "c3a19c31691a0615",
   "metadata": {
    "ExecuteTime": {
     "end_time": "2025-04-03T15:47:41.495500Z",
     "start_time": "2025-04-03T15:47:41.491460Z"
    }
   },
   "outputs": [],
   "source": [
    "import numpy as np\n",
    "\n",
    "print(f\"NumPy versie: {np.__version__}\")\n",
    "\n",
    "import pandas as pd\n",
    "print(pd.__version__)\n"
   ]
  },
  {
   "cell_type": "code",
   "execution_count": null,
   "id": "534811f4",
   "metadata": {},
   "outputs": [],
   "source": [
    "# 4 methods for time series interpolation\n",
    "\n",
    "def forward_fill(data):\n",
    "    return data.fillna(method=\"ffill\")\n",
    "\n",
    "def backward_fill(data):\n",
    "    return data.fillna(method=\"bfill\")\n",
    "\n",
    "# only use when data is linear/follows smooth trend\n",
    "def linear_interpolation(data):\n",
    "    return data.interpolate(method=\"linear\")\n",
    "\n",
    "# from statsmodels.tsa.seasonal import seasonal_decompose\n",
    "# result = seasonal_decompose(data[\"Close\"], model=\"additive\", period=7)\n",
    "# trend = result.trend\n",
    "# trend_filled = trend.fillna(method=\"ffill\").fillna(method=\"bfill\")\n",
    "#seasonal_filled = result.seasonal.fillna(method='bfill').fillna(method='ffill')\n",
    "# imputed_data = trend_filled + seasonal_filled + result.resid\n",
    "\n",
    "# transformation and imputation functions\n",
    "\n",
    "def replace_with(data, option):\n",
    "    if option == \"mean\":\n",
    "        return data.fillna(data.mean())\n",
    "    elif option == \"median\":\n",
    "        return data.fillna(data.median())\n",
    "    elif option == \"mode\":\n",
    "        return data.fillna(data.mode()[0])\n",
    "    \n",
    "def normalize(column):\n",
    "    return (column - column.min()) / (column.max() - column.min())\n",
    "def standardize(column):\n",
    "    return (column - column.mean()) / column.std()\n",
    "\n",
    "# more advanced: https://medium.com/@aaabulkhair/data-imputation-demystified-time-series-data-69bc9c798cb7\n",
    "\n"
   ]
  }
 ],
 "metadata": {
  "kernelspec": {
   "display_name": "Python 3",
   "language": "python",
   "name": "python3"
  },
  "language_info": {
   "codemirror_mode": {
    "name": "ipython",
    "version": 3
   },
   "file_extension": ".py",
   "mimetype": "text/x-python",
   "name": "python",
   "nbconvert_exporter": "python",
   "pygments_lexer": "ipython3",
   "version": "3.12.3"
  }
 },
 "nbformat": 4,
 "nbformat_minor": 5
}
