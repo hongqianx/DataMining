{
 "cells": [
  {
   "cell_type": "code",
   "execution_count": null,
   "id": "initial_id",
   "metadata": {
    "ExecuteTime": {
     "end_time": "2025-04-03T15:48:54.052315Z",
     "start_time": "2025-04-03T15:48:53.504288Z"
    }
   },
   "outputs": [],
   "source": [
    "# Uncomment below if you dont have the required packages\n",
    "#!pip install pandas\n",
    "import pandas as pd\n",
    "\n",
    "# Load dataset\n",
    "file_path = \"../input/dataset_mood_smartphone.csv\"\n",
    "df = pd.read_csv(file_path)\n",
    "\n",
    "# Display first few rows\n",
    "print(\"First five rows:\")\n",
    "print(df.head())\n",
    "\n",
    "# Basic info\n",
    "print(\"\\nDataset Info:\")\n",
    "df.info()\n",
    "\n",
    "# Summary statistics\n",
    "print(\"\\nSummary Statistics:\")\n",
    "print(df.describe(include=\"all\"))\n",
    "\n",
    "# Checking missing values\n",
    "print(\"\\nMissing Values:\")\n",
    "print(df.isnull().sum())\n",
    "\n",
    "# Unique values per column\n",
    "print(\"\\nUnique Values per Column:\")\n",
    "print(df.nunique())\n"
   ]
  },
  {
   "cell_type": "code",
   "execution_count": null,
   "id": "c3a19c31691a0615",
   "metadata": {
    "ExecuteTime": {
     "end_time": "2025-04-03T15:47:41.495500Z",
     "start_time": "2025-04-03T15:47:41.491460Z"
    }
   },
   "outputs": [],
   "source": [
    "import numpy as np\n",
    "\n",
    "print(f\"NumPy versie: {np.__version__}\")\n",
    "\n",
    "import pandas as pd\n",
    "print(pd.__version__)\n"
   ]
  }
 ],
 "metadata": {
  "kernelspec": {
   "display_name": "Python 3",
   "language": "python",
   "name": "python3"
  },
  "language_info": {
   "codemirror_mode": {
    "name": "ipython",
    "version": 2
   },
   "file_extension": ".py",
   "mimetype": "text/x-python",
   "name": "python",
   "nbconvert_exporter": "python",
   "pygments_lexer": "ipython2",
   "version": "2.7.6"
  }
 },
 "nbformat": 4,
 "nbformat_minor": 5
}
