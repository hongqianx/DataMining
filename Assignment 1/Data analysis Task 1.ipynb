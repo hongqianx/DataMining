{
 "cells": [
  {
   "cell_type": "code",
   "execution_count": 1,
   "id": "initial_id",
   "metadata": {
    "ExecuteTime": {
     "end_time": "2025-04-03T15:48:54.052315Z",
     "start_time": "2025-04-03T15:48:53.504288Z"
    }
   },
   "outputs": [
    {
     "name": "stdout",
     "output_type": "stream",
     "text": [
      "First five rows:\n",
      "   Unnamed: 0       id                     time variable  value\n",
      "0           1  AS14.01  2014-02-26 13:00:00.000     mood    6.0\n",
      "1           2  AS14.01  2014-02-26 15:00:00.000     mood    6.0\n",
      "2           3  AS14.01  2014-02-26 18:00:00.000     mood    6.0\n",
      "3           4  AS14.01  2014-02-26 21:00:00.000     mood    7.0\n",
      "4           5  AS14.01  2014-02-27 09:00:00.000     mood    6.0\n",
      "\n",
      "Dataset Info:\n",
      "<class 'pandas.core.frame.DataFrame'>\n",
      "RangeIndex: 376912 entries, 0 to 376911\n",
      "Data columns (total 5 columns):\n",
      " #   Column      Non-Null Count   Dtype  \n",
      "---  ------      --------------   -----  \n",
      " 0   Unnamed: 0  376912 non-null  int64  \n",
      " 1   id          376912 non-null  object \n",
      " 2   time        376912 non-null  object \n",
      " 3   variable    376912 non-null  object \n",
      " 4   value       376710 non-null  float64\n",
      "dtypes: float64(1), int64(1), object(3)\n",
      "memory usage: 14.4+ MB\n",
      "\n",
      "Summary Statistics:\n",
      "          Unnamed: 0       id                     time variable          value\n",
      "count   3.769120e+05   376912                   376912   376912  376710.000000\n",
      "unique           NaN       27                   336907       19            NaN\n",
      "top              NaN  AS14.01  2014-04-14 12:00:00.000   screen            NaN\n",
      "freq             NaN    21999                       91    96578            NaN\n",
      "mean    4.501273e+05      NaN                      NaN      NaN      40.665313\n",
      "std     5.411519e+05      NaN                      NaN      NaN     273.726007\n",
      "min     1.000000e+00      NaN                      NaN      NaN  -82798.871000\n",
      "25%     9.422875e+04      NaN                      NaN      NaN       2.025000\n",
      "50%     2.274385e+05      NaN                      NaN      NaN       7.029000\n",
      "75%     5.160412e+05      NaN                      NaN      NaN      29.356000\n",
      "max     1.427711e+07      NaN                      NaN      NaN   33960.246000\n",
      "\n",
      "Missing Values:\n",
      "Unnamed: 0      0\n",
      "id              0\n",
      "time            0\n",
      "variable        0\n",
      "value         202\n",
      "dtype: int64\n",
      "\n",
      "Unique Values per Column:\n",
      "Unnamed: 0    376912\n",
      "id                27\n",
      "time          336907\n",
      "variable          19\n",
      "value         130606\n",
      "dtype: int64\n"
     ]
    }
   ],
   "source": [
    "# Uncomment below if you dont have the required packages\n",
    "#!pip install pandas\n",
    "import pandas as pd\n",
    "\n",
    "# Load dataset\n",
    "file_path = \"../input/dataset_mood_smartphone.csv\"\n",
    "df = pd.read_csv(file_path)\n",
    "\n",
    "# Display first few rows\n",
    "print(\"First five rows:\")\n",
    "print(df.head())\n",
    "\n",
    "# Basic info\n",
    "print(\"\\nDataset Info:\")\n",
    "df.info()\n",
    "\n",
    "# Summary statistics\n",
    "print(\"\\nSummary Statistics:\")\n",
    "print(df.describe(include=\"all\"))\n",
    "\n",
    "# Checking missing values\n",
    "print(\"\\nMissing Values:\")\n",
    "print(df.isnull().sum())\n",
    "\n",
    "# Unique values per column\n",
    "print(\"\\nUnique Values per Column:\")\n",
    "print(df.nunique())\n"
   ]
  },
  {
   "cell_type": "code",
   "execution_count": 2,
   "id": "c3a19c31691a0615",
   "metadata": {
    "ExecuteTime": {
     "end_time": "2025-04-03T15:47:41.495500Z",
     "start_time": "2025-04-03T15:47:41.491460Z"
    }
   },
   "outputs": [
    {
     "name": "stdout",
     "output_type": "stream",
     "text": [
      "NumPy versie: 1.26.4\n",
      "2.1.4\n"
     ]
    }
   ],
   "source": [
    "import numpy as np\n",
    "\n",
    "print(f\"NumPy versie: {np.__version__}\")\n",
    "\n",
    "import pandas as pd\n",
    "print(pd.__version__)\n"
   ]
  },
  {
   "cell_type": "code",
   "execution_count": null,
   "id": "534811f4",
   "metadata": {},
   "outputs": [],
   "source": [
    "# 4 methods for time series interpolation\n",
    "\n",
    "def forward_fill(data):\n",
    "    return data.fillna(method=\"ffill\")\n",
    "\n",
    "def backward_fill(data):\n",
    "    return data.fillna(method=\"bfill\")\n",
    "\n",
    "# only use when data is linear/follows smooth trend\n",
    "def linear_interpolation(data):\n",
    "    return data.interpolate(method=\"linear\")\n",
    "\n",
    "# from statsmodels.tsa.seasonal import seasonal_decompose\n",
    "# result = seasonal_decompose(data[\"Close\"], model=\"additive\", period=7)\n",
    "# trend = result.trend\n",
    "# trend_filled = trend.fillna(method=\"ffill\").fillna(method=\"bfill\")\n",
    "#seasonal_filled = result.seasonal.fillna(method='bfill').fillna(method='ffill')\n",
    "# imputed_data = trend_filled + seasonal_filled + result.resid\n",
    "\n",
    "# transformation and imputation functions\n",
    "\n",
    "def replace_with(data, option):\n",
    "    if option == \"mean\":\n",
    "        return data.fillna(data.mean())\n",
    "    elif option == \"median\":\n",
    "        return data.fillna(data.median())\n",
    "    elif option == \"mode\":\n",
    "        return data.fillna(data.mode()[0])\n",
    "    \n",
    "def normalize(column):\n",
    "    return (column - column.min()) / (column.max() - column.min())\n",
    "def standardize(column):\n",
    "    return (column - column.mean()) / column.std()\n",
    "\n",
    "# more advanced: https://medium.com/@aaabulkhair/data-imputation-demystified-time-series-data-69bc9c798cb7\n",
    "\n"
   ]
  }
 ],
 "metadata": {
  "kernelspec": {
   "display_name": "Python 3",
   "language": "python",
   "name": "python3"
  },
  "language_info": {
   "codemirror_mode": {
    "name": "ipython",
    "version": 3
   },
   "file_extension": ".py",
   "mimetype": "text/x-python",
   "name": "python",
   "nbconvert_exporter": "python",
   "pygments_lexer": "ipython3",
   "version": "3.12.3"
  }
 },
 "nbformat": 4,
 "nbformat_minor": 5
}
