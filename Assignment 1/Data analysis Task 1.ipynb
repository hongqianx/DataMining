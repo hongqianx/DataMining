{
 "cells": [
  {
   "cell_type": "code",
   "id": "initial_id",
   "metadata": {
    "collapsed": true,
    "jupyter": {
     "is_executing": true
    }
   },
   "source": [
    "from rich.jupyter import display\n",
    "import pandas as pd\n",
    "\n",
    "# Load dataset\n",
    "file_path = \"input/dataset_mood_smartphone.csv\"\n",
    "df = pd.read_csv(file_path)\n",
    "\n",
    "# Display first few rows\n",
    "print(\"First five rows:\")\n",
    "display(df.head())\n",
    "\n",
    "# Basic info\n",
    "print(\"\\nDataset Info:\")\n",
    "df.info()\n",
    "\n",
    "# Summary statistics\n",
    "print(\"\\nSummary Statistics:\")\n",
    "display(df.describe(include=\"all\"))\n",
    "\n",
    "# Checking missing values\n",
    "print(\"\\nMissing Values:\")\n",
    "display(df.isnull().sum())\n",
    "\n",
    "# Unique values per column\n",
    "print(\"\\nUnique Values per Column:\")\n",
    "display(df.nunique())\n"
   ],
   "outputs": [],
   "execution_count": null
  }
 ],
 "metadata": {
  "kernelspec": {
   "display_name": "Python 3",
   "language": "python",
   "name": "python3"
  },
  "language_info": {
   "codemirror_mode": {
    "name": "ipython",
    "version": 2
   },
   "file_extension": ".py",
   "mimetype": "text/x-python",
   "name": "python",
   "nbconvert_exporter": "python",
   "pygments_lexer": "ipython2",
   "version": "2.7.6"
  }
 },
 "nbformat": 4,
 "nbformat_minor": 5
}
